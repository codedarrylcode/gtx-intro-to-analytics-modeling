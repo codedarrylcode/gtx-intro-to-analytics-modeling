{
 "cells": [
  {
   "cell_type": "markdown",
   "metadata": {
    "heading_collapsed": true
   },
   "source": [
    "# Optimization\n",
    "\n",
    "<hr>"
   ]
  },
  {
   "cell_type": "markdown",
   "metadata": {
    "hidden": true
   },
   "source": [
    "## Optimization Models\n",
    "\n",
    "Three key pieces of optimization modeling:\n",
    "\n",
    "1. **Variables**\n",
    "\n",
    "    Decisions to be made where values can be changed to maximize/minimize the objective function.\n",
    "    \n",
    "    Example: political candidate scheduling\n",
    "    \n",
    "    - $x_i = \\text{total time spent in state i}$\n",
    "    - $y_i = \\text{number of visits to state i}$\n",
    "    - $z_i = \\text{1 if state i is ever visited, else 0}$\n",
    "    - $w_{id} = \\text{time spent in state i on day d}$\n",
    "    - $v_{id} = \\text{1 if state i visited on day d, else 0}$\n",
    "\n",
    "\n",
    "2. **Constraints**\n",
    "\n",
    "    Restrictions on variable values, e.g. 30 days left in the campaign, $\\therefore \\sum_i x_i \\leq 30$\n",
    "\n",
    "\n",
    "3. **Objective function**\n",
    "    \n",
    "    Measure of the solution's quality, for e.g. Maximize expected new votes on a political schedule.\n",
    "    \n",
    "    $\\sum_i (\\alpha p_i \\sqrt{x_i + \\frac{1}{3} \\sum_{j \\in N(i)} x_j} + \\beta v_{id} f{d})$\n",
    "\n",
    "\n",
    "**Examples**\n",
    "\n",
    "1. Diet problem in US Army\n",
    "\n",
    "    Satisfy soldiers' nutritional requirements at minimum cost, given:\n",
    "    \n",
    "    - $n$ foods\n",
    "    - $m$ nutrients\n",
    "    - $a_{ij} = \\text{amount of nutrient j per unit of food i}$\n",
    "    - $m_j = \\text{minimum daily intake of nutrient j}$\n",
    "    - $M_j = \\text{maximum daily intake of nutrient j}$\n",
    "    - $c_i = \\text{per-unit cost of food i}$\n",
    "\n",
    "    Model is defined as such:\n",
    "    \n",
    "    - Variables: $x_i = \\text{amount of food i in daily diet}$\n",
    "    - Constraints:\n",
    "        - $\\sum_i a_{ij} x_i \\geq m_j$\n",
    "        - $\\sum_i a_{ij} x_i \\leq M_j$\n",
    "        - $x_i \\geq 0$ for each food i\n",
    "    - Objective function: $\\min \\sum_i x_i c_i$\n",
    "\n",
    "\n",
    "2. Call center scheduling\n",
    "\n",
    "    - Meet forecasted demand $d$ for each day\n",
    "    - Minimize slack by minimizing workers required to meet demand\n",
    "    - Each worker works 5 days in a row then 2 days off\n",
    "    \n",
    "    Variables\n",
    "        - $x_i = \\text{number of people who start working on day i}$\n",
    "        \n",
    "    Objective function\n",
    "        - $\\min 5(x_{sunday} + x_{monday} + \\dots)$\n",
    "        \n",
    "    Constraints\n",
    "        - Meet demand: $\\sum_{\\text{j working on day i}} x_j \\geq d_i$\n",
    "        - $x_i \\geq 0$ for all days $i$\n",
    "        - $x_i$ is integer\n",
    "    \n",
    "****\n",
    "\n",
    "## Topic 2\n",
    "\n",
    "<hr>\n",
    "\n",
    "<img alt=\"This is some image\" src=\"assets/math.png\" width=\"400\" >"
   ]
  },
  {
   "cell_type": "markdown",
   "metadata": {},
   "source": [
    "# Basic code\n",
    "A `minimal, reproducible example`"
   ]
  },
  {
   "cell_type": "code",
   "execution_count": null,
   "metadata": {},
   "outputs": [],
   "source": []
  }
 ],
 "metadata": {
  "kernelspec": {
   "display_name": "Python 3",
   "language": "python",
   "name": "python3"
  },
  "language_info": {
   "codemirror_mode": {
    "name": "ipython",
    "version": 3
   },
   "file_extension": ".py",
   "mimetype": "text/x-python",
   "name": "python",
   "nbconvert_exporter": "python",
   "pygments_lexer": "ipython3",
   "version": "3.7.4"
  },
  "toc": {
   "base_numbering": 1,
   "nav_menu": {},
   "number_sections": true,
   "sideBar": true,
   "skip_h1_title": false,
   "title_cell": "Table of Contents",
   "title_sidebar": "Contents",
   "toc_cell": false,
   "toc_position": {},
   "toc_section_display": true,
   "toc_window_display": false
  }
 },
 "nbformat": 4,
 "nbformat_minor": 2
}
