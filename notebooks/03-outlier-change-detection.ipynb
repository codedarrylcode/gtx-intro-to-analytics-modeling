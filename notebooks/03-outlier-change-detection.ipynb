{
 "cells": [
  {
   "cell_type": "markdown",
   "metadata": {},
   "source": [
    "# Outlier & Change Detection\n",
    "\n",
    "<hr>"
   ]
  },
  {
   "cell_type": "markdown",
   "metadata": {},
   "source": [
    "## Outlier detection\n",
    "\n",
    "An outlier is a data point that's very different from the rest of the dataset. These outliers can be caused by poor measurements, wrong data input or contaminated experiments.\n",
    "\n",
    "Types of outliers:\n",
    "\n",
    "- **Point outliers**: Values are far from the rest of the data\n",
    "- **Contextual outliers**: Value isn't far from the rest overall but is far from points nearby in time\n",
    "- **Collective outliers**: Something is missing in a time-series range of points but can't tell exactly where\n",
    "\n",
    "One classic way to identify outliers visually is to use the **box-and-whisker** plot to observe data points outside of the whiskers. Another approach could be to fit an **exponential smoothing model** where points with very large errors might be outliers. The modeling approach means that we can also fit a logistic regression model to estimate the probability of an outlier happening under different conditions.\n",
    "\n",
    "****\n",
    "\n",
    "## Change detection\n",
    "\n",
    "One basic way to detect changes in metrics is to use the cumulative sum approach, i.e. *has the mean of the observed variable gone beyond the expected level*? \n",
    "\n",
    "$S_t = \\max \\{0, S_{t-1} + (x_t - \\mu - C)\\}$\n",
    "\n",
    "Is $S_t \\geq T$? \n",
    "\n",
    "where \n",
    "\n",
    "- $T$ is the specified threshold\n",
    "- $C$ is the penalty term to the expected level to reduce sensitivity of triggering an alert\n",
    "\n",
    "****"
   ]
  },
  {
   "cell_type": "markdown",
   "metadata": {},
   "source": [
    "# Basic code\n",
    "A `minimal, reproducible example`"
   ]
  },
  {
   "cell_type": "code",
   "execution_count": null,
   "metadata": {},
   "outputs": [],
   "source": []
  }
 ],
 "metadata": {
  "kernelspec": {
   "display_name": "Python 3",
   "language": "python",
   "name": "python3"
  },
  "language_info": {
   "codemirror_mode": {
    "name": "ipython",
    "version": 3
   },
   "file_extension": ".py",
   "mimetype": "text/x-python",
   "name": "python",
   "nbconvert_exporter": "python",
   "pygments_lexer": "ipython3",
   "version": "3.7.4"
  },
  "toc": {
   "base_numbering": 1,
   "nav_menu": {},
   "number_sections": true,
   "sideBar": true,
   "skip_h1_title": false,
   "title_cell": "Table of Contents",
   "title_sidebar": "Contents",
   "toc_cell": false,
   "toc_position": {},
   "toc_section_display": true,
   "toc_window_display": false
  }
 },
 "nbformat": 4,
 "nbformat_minor": 2
}
